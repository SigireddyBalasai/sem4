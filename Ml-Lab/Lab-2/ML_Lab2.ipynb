{
  "nbformat": 4,
  "nbformat_minor": 0,
  "metadata": {
    "colab": {
      "provenance": []
    },
    "kernelspec": {
      "name": "python3",
      "display_name": "Python 3"
    },
    "language_info": {
      "name": "python"
    }
  },
  "cells": [
    {
      "cell_type": "code",
      "execution_count": 1,
      "metadata": {
        "id": "-FUkJfOYXEgR"
      },
      "outputs": [],
      "source": [
        "import numpy as np\n",
        "import pandas as pd\n"
      ]
    },
    {
      "cell_type": "code",
      "source": [
        "column_names = ['Pregnancies','Glucose','BloodPreassure','SkinThickness','Insulin','BMI','DiabetesPedigreeFunction','Age','Outcome']\n",
        "df = pd.read_csv(\"/content/drive/MyDrive/Colab Notebooks/pima-indians-diabetes.csv\",names=column_names)"
      ],
      "metadata": {
        "id": "Mp5LbRLlYLTS"
      },
      "execution_count": 12,
      "outputs": []
    },
    {
      "cell_type": "markdown",
      "source": [
        "We can find the no of rows in the dataset by usingh the .size attribute on the dataframe"
      ],
      "metadata": {
        "id": "HuoFo5vIZtNQ"
      }
    },
    {
      "cell_type": "code",
      "source": [
        "print(\"The size of the given dataset is \",df.size)"
      ],
      "metadata": {
        "colab": {
          "base_uri": "https://localhost:8080/"
        },
        "id": "hSBTv_QFYSBh",
        "outputId": "cc57184d-8d75-4a06-dda1-892f13b5dede"
      },
      "execution_count": 14,
      "outputs": [
        {
          "output_type": "stream",
          "name": "stdout",
          "text": [
            "The size of the given dataset is  6912\n"
          ]
        }
      ]
    },
    {
      "cell_type": "markdown",
      "source": [
        "We can get the btype of all attributes in a dataframe by using the .dtpes attribute"
      ],
      "metadata": {
        "id": "0IOSULZgdV61"
      }
    },
    {
      "cell_type": "code",
      "source": [
        "print(\"The datatypes of the given dataframe is \")\n",
        "print(df.dtypes)"
      ],
      "metadata": {
        "colab": {
          "base_uri": "https://localhost:8080/"
        },
        "id": "9Id7Y_jwb7d1",
        "outputId": "f3c87b4d-859b-4ca0-9c7b-20503660cfc7"
      },
      "execution_count": 18,
      "outputs": [
        {
          "output_type": "stream",
          "name": "stdout",
          "text": [
            "The datatypes of the given dataframe is \n",
            "Pregnancies                   int64\n",
            "Glucose                       int64\n",
            "BloodPreassure                int64\n",
            "SkinThickness                 int64\n",
            "Insulin                       int64\n",
            "BMI                         float64\n",
            "DiabetesPedigreeFunction    float64\n",
            "Age                           int64\n",
            "Outcome                       int64\n",
            "dtype: object\n"
          ]
        }
      ]
    },
    {
      "cell_type": "markdown",
      "source": [
        "Display the statistical properties of each attribute\n",
        "mean , std , 25 5 , 50 % , 75 % and max"
      ],
      "metadata": {
        "id": "T5cQkVWle0VU"
      }
    },
    {
      "cell_type": "markdown",
      "source": [
        "to get the mean of all attributes in given df we can use the .mean() method on the given dataferame\n"
      ],
      "metadata": {
        "id": "OATOmqKdfYQ3"
      }
    },
    {
      "cell_type": "code",
      "source": [
        "print(\"The mean of all attributes in a given df\")\n",
        "print(df.mean())"
      ],
      "metadata": {
        "colab": {
          "base_uri": "https://localhost:8080/"
        },
        "id": "Rh_LOC3cfPRk",
        "outputId": "1e50b558-58c5-4669-e829-d21dd1ba3f0e"
      },
      "execution_count": 19,
      "outputs": [
        {
          "output_type": "stream",
          "name": "stdout",
          "text": [
            "The maximum of all attributes in a given df\n",
            "Pregnancies                   3.845052\n",
            "Glucose                     120.894531\n",
            "BloodPreassure               69.105469\n",
            "SkinThickness                20.536458\n",
            "Insulin                      79.799479\n",
            "BMI                          31.992578\n",
            "DiabetesPedigreeFunction      0.471876\n",
            "Age                          33.240885\n",
            "Outcome                       0.348958\n",
            "dtype: float64\n"
          ]
        }
      ]
    },
    {
      "cell_type": "markdown",
      "source": [
        "to get the standard deviation of the given data we can use the std method"
      ],
      "metadata": {
        "id": "V0cCmE1YgoCk"
      }
    },
    {
      "cell_type": "code",
      "source": [
        "print(\"The standard deviation of the given data is\")\n",
        "print(df.std())"
      ],
      "metadata": {
        "colab": {
          "base_uri": "https://localhost:8080/"
        },
        "id": "o4sieA6Idkjl",
        "outputId": "97aa5a17-bec5-4998-ad52-f52bbcb2a537"
      },
      "execution_count": 20,
      "outputs": [
        {
          "output_type": "stream",
          "name": "stdout",
          "text": [
            "The standard deviation of the given data is\n",
            "Pregnancies                   3.369578\n",
            "Glucose                      31.972618\n",
            "BloodPreassure               19.355807\n",
            "SkinThickness                15.952218\n",
            "Insulin                     115.244002\n",
            "BMI                           7.884160\n",
            "DiabetesPedigreeFunction      0.331329\n",
            "Age                          11.760232\n",
            "Outcome                       0.476951\n",
            "dtype: float64\n"
          ]
        }
      ]
    },
    {
      "cell_type": "markdown",
      "source": [
        "we can get the minimum values by using the min metyhos on the given dataset"
      ],
      "metadata": {
        "id": "W6ng9IWviFas"
      }
    },
    {
      "cell_type": "code",
      "source": [
        "print(\"The minimum values in the given dataset are \")\n",
        "print(df.min())"
      ],
      "metadata": {
        "colab": {
          "base_uri": "https://localhost:8080/"
        },
        "id": "0exvGpCIiEIu",
        "outputId": "35bd71a2-09c7-4d7e-aa53-0c809d83c24a"
      },
      "execution_count": 21,
      "outputs": [
        {
          "output_type": "stream",
          "name": "stdout",
          "text": [
            "The minimum values in the given dataset are \n",
            "Pregnancies                  0.000\n",
            "Glucose                      0.000\n",
            "BloodPreassure               0.000\n",
            "SkinThickness                0.000\n",
            "Insulin                      0.000\n",
            "BMI                          0.000\n",
            "DiabetesPedigreeFunction     0.078\n",
            "Age                         21.000\n",
            "Outcome                      0.000\n",
            "dtype: float64\n"
          ]
        }
      ]
    },
    {
      "cell_type": "markdown",
      "source": [
        "25 percentile of the given values are obtsined by using the quantile metyhod"
      ],
      "metadata": {
        "id": "j8NjC5T8jQyE"
      }
    },
    {
      "cell_type": "code",
      "source": [
        "print(\"25 % of the given values are\")\n",
        "print(df.quantile(0.25))"
      ],
      "metadata": {
        "colab": {
          "base_uri": "https://localhost:8080/"
        },
        "id": "STzo9tQPjWik",
        "outputId": "9eac44e2-6e9a-42a6-fc21-52837815da0f"
      },
      "execution_count": 23,
      "outputs": [
        {
          "output_type": "stream",
          "name": "stdout",
          "text": [
            "25 % of the given values are\n",
            "Pregnancies                  1.00000\n",
            "Glucose                     99.00000\n",
            "BloodPreassure              62.00000\n",
            "SkinThickness                0.00000\n",
            "Insulin                      0.00000\n",
            "BMI                         27.30000\n",
            "DiabetesPedigreeFunction     0.24375\n",
            "Age                         24.00000\n",
            "Outcome                      0.00000\n",
            "Name: 0.25, dtype: float64\n"
          ]
        }
      ]
    },
    {
      "cell_type": "markdown",
      "source": [
        "50 percentile of the given values are obtsined by using the quantile metyhod"
      ],
      "metadata": {
        "id": "THpb-QjLj03Z"
      }
    },
    {
      "cell_type": "code",
      "source": [
        "print(\"50 % of the given values are\")\n",
        "print(df.quantile(0.5))"
      ],
      "metadata": {
        "colab": {
          "base_uri": "https://localhost:8080/"
        },
        "outputId": "18b8b425-a82d-4385-ed60-b12a1ae00d67",
        "id": "jWACBB4Xj4zp"
      },
      "execution_count": 25,
      "outputs": [
        {
          "output_type": "stream",
          "name": "stdout",
          "text": [
            "50 % of the given values are\n",
            "Pregnancies                   3.0000\n",
            "Glucose                     117.0000\n",
            "BloodPreassure               72.0000\n",
            "SkinThickness                23.0000\n",
            "Insulin                      30.5000\n",
            "BMI                          32.0000\n",
            "DiabetesPedigreeFunction      0.3725\n",
            "Age                          29.0000\n",
            "Outcome                       0.0000\n",
            "Name: 0.5, dtype: float64\n"
          ]
        }
      ]
    },
    {
      "cell_type": "markdown",
      "source": [
        "75 percentile of the given values are obtsined by using the quantile metyhod"
      ],
      "metadata": {
        "id": "purpXADqm8N3"
      }
    },
    {
      "cell_type": "code",
      "source": [
        "print(\"75 % of the given values are\")\n",
        "print(df.quantile(0.75))"
      ],
      "metadata": {
        "colab": {
          "base_uri": "https://localhost:8080/"
        },
        "outputId": "9b05f89f-05e7-4daf-a672-f863a51868d7",
        "id": "DOw41x2pnBcm"
      },
      "execution_count": 26,
      "outputs": [
        {
          "output_type": "stream",
          "name": "stdout",
          "text": [
            "75 % of the given values are\n",
            "Pregnancies                   6.00000\n",
            "Glucose                     140.25000\n",
            "BloodPreassure               80.00000\n",
            "SkinThickness                32.00000\n",
            "Insulin                     127.25000\n",
            "BMI                          36.60000\n",
            "DiabetesPedigreeFunction      0.62625\n",
            "Age                          41.00000\n",
            "Outcome                       1.00000\n",
            "Name: 0.75, dtype: float64\n"
          ]
        }
      ]
    },
    {
      "cell_type": "markdown",
      "source": [
        "gettin gthe max values in the given dataset can be done by using the .max() method"
      ],
      "metadata": {
        "id": "ytKHkASSoACv"
      }
    },
    {
      "cell_type": "code",
      "source": [
        "print(\"The maximum in the given values are\")\n",
        "print(df.max())"
      ],
      "metadata": {
        "colab": {
          "base_uri": "https://localhost:8080/"
        },
        "id": "fSwO9etsoH2H",
        "outputId": "5b76e094-70a4-4266-f067-f1dff1f90c9e"
      },
      "execution_count": 27,
      "outputs": [
        {
          "output_type": "stream",
          "name": "stdout",
          "text": [
            "The maximum in the given values are\n",
            "Pregnancies                  17.00\n",
            "Glucose                     199.00\n",
            "BloodPreassure              122.00\n",
            "SkinThickness                99.00\n",
            "Insulin                     846.00\n",
            "BMI                          67.10\n",
            "DiabetesPedigreeFunction      2.42\n",
            "Age                          81.00\n",
            "Outcome                       1.00\n",
            "dtype: float64\n"
          ]
        }
      ]
    },
    {
      "cell_type": "markdown",
      "source": [
        "class distribution of outcome variable canbe done by using the groupby method"
      ],
      "metadata": {
        "id": "YPezOvFSpLbJ"
      }
    },
    {
      "cell_type": "code",
      "source": [
        "print(\"The grouping is\")\n",
        "print(df.groupby('Outcome').size())"
      ],
      "metadata": {
        "colab": {
          "base_uri": "https://localhost:8080/"
        },
        "id": "Gj_5Ay43pW-7",
        "outputId": "ff23a3f5-508f-4f73-d481-522a95a65f10"
      },
      "execution_count": 29,
      "outputs": [
        {
          "output_type": "stream",
          "name": "stdout",
          "text": [
            "The grouping is\n",
            "Outcome\n",
            "0    500\n",
            "1    268\n",
            "dtype: int64\n"
          ]
        }
      ]
    },
    {
      "cell_type": "markdown",
      "source": [
        "we are adding the correlation by using the corr method on dataframe"
      ],
      "metadata": {
        "id": "FcyIZZ0pqXTt"
      }
    },
    {
      "cell_type": "code",
      "source": [
        "df.corr(\"pearson\")"
      ],
      "metadata": {
        "colab": {
          "base_uri": "https://localhost:8080/",
          "height": 396
        },
        "id": "l41hTy5AqW2N",
        "outputId": "a810f144-97d6-4a0c-888a-a9e535a36d3a"
      },
      "execution_count": 31,
      "outputs": [
        {
          "output_type": "execute_result",
          "data": {
            "text/plain": [
              "                          Pregnancies   Glucose  BloodPreassure  \\\n",
              "Pregnancies                  1.000000  0.129459        0.141282   \n",
              "Glucose                      0.129459  1.000000        0.152590   \n",
              "BloodPreassure               0.141282  0.152590        1.000000   \n",
              "SkinThickness               -0.081672  0.057328        0.207371   \n",
              "Insulin                     -0.073535  0.331357        0.088933   \n",
              "BMI                          0.017683  0.221071        0.281805   \n",
              "DiabetesPedigreeFunction    -0.033523  0.137337        0.041265   \n",
              "Age                          0.544341  0.263514        0.239528   \n",
              "Outcome                      0.221898  0.466581        0.065068   \n",
              "\n",
              "                          SkinThickness   Insulin       BMI  \\\n",
              "Pregnancies                   -0.081672 -0.073535  0.017683   \n",
              "Glucose                        0.057328  0.331357  0.221071   \n",
              "BloodPreassure                 0.207371  0.088933  0.281805   \n",
              "SkinThickness                  1.000000  0.436783  0.392573   \n",
              "Insulin                        0.436783  1.000000  0.197859   \n",
              "BMI                            0.392573  0.197859  1.000000   \n",
              "DiabetesPedigreeFunction       0.183928  0.185071  0.140647   \n",
              "Age                           -0.113970 -0.042163  0.036242   \n",
              "Outcome                        0.074752  0.130548  0.292695   \n",
              "\n",
              "                          DiabetesPedigreeFunction       Age   Outcome  \n",
              "Pregnancies                              -0.033523  0.544341  0.221898  \n",
              "Glucose                                   0.137337  0.263514  0.466581  \n",
              "BloodPreassure                            0.041265  0.239528  0.065068  \n",
              "SkinThickness                             0.183928 -0.113970  0.074752  \n",
              "Insulin                                   0.185071 -0.042163  0.130548  \n",
              "BMI                                       0.140647  0.036242  0.292695  \n",
              "DiabetesPedigreeFunction                  1.000000  0.033561  0.173844  \n",
              "Age                                       0.033561  1.000000  0.238356  \n",
              "Outcome                                   0.173844  0.238356  1.000000  "
            ],
            "text/html": [
              "\n",
              "\n",
              "  <div id=\"df-6c0363f1-1171-4113-a0df-c0990013cb75\">\n",
              "    <div class=\"colab-df-container\">\n",
              "      <div>\n",
              "<style scoped>\n",
              "    .dataframe tbody tr th:only-of-type {\n",
              "        vertical-align: middle;\n",
              "    }\n",
              "\n",
              "    .dataframe tbody tr th {\n",
              "        vertical-align: top;\n",
              "    }\n",
              "\n",
              "    .dataframe thead th {\n",
              "        text-align: right;\n",
              "    }\n",
              "</style>\n",
              "<table border=\"1\" class=\"dataframe\">\n",
              "  <thead>\n",
              "    <tr style=\"text-align: right;\">\n",
              "      <th></th>\n",
              "      <th>Pregnancies</th>\n",
              "      <th>Glucose</th>\n",
              "      <th>BloodPreassure</th>\n",
              "      <th>SkinThickness</th>\n",
              "      <th>Insulin</th>\n",
              "      <th>BMI</th>\n",
              "      <th>DiabetesPedigreeFunction</th>\n",
              "      <th>Age</th>\n",
              "      <th>Outcome</th>\n",
              "    </tr>\n",
              "  </thead>\n",
              "  <tbody>\n",
              "    <tr>\n",
              "      <th>Pregnancies</th>\n",
              "      <td>1.000000</td>\n",
              "      <td>0.129459</td>\n",
              "      <td>0.141282</td>\n",
              "      <td>-0.081672</td>\n",
              "      <td>-0.073535</td>\n",
              "      <td>0.017683</td>\n",
              "      <td>-0.033523</td>\n",
              "      <td>0.544341</td>\n",
              "      <td>0.221898</td>\n",
              "    </tr>\n",
              "    <tr>\n",
              "      <th>Glucose</th>\n",
              "      <td>0.129459</td>\n",
              "      <td>1.000000</td>\n",
              "      <td>0.152590</td>\n",
              "      <td>0.057328</td>\n",
              "      <td>0.331357</td>\n",
              "      <td>0.221071</td>\n",
              "      <td>0.137337</td>\n",
              "      <td>0.263514</td>\n",
              "      <td>0.466581</td>\n",
              "    </tr>\n",
              "    <tr>\n",
              "      <th>BloodPreassure</th>\n",
              "      <td>0.141282</td>\n",
              "      <td>0.152590</td>\n",
              "      <td>1.000000</td>\n",
              "      <td>0.207371</td>\n",
              "      <td>0.088933</td>\n",
              "      <td>0.281805</td>\n",
              "      <td>0.041265</td>\n",
              "      <td>0.239528</td>\n",
              "      <td>0.065068</td>\n",
              "    </tr>\n",
              "    <tr>\n",
              "      <th>SkinThickness</th>\n",
              "      <td>-0.081672</td>\n",
              "      <td>0.057328</td>\n",
              "      <td>0.207371</td>\n",
              "      <td>1.000000</td>\n",
              "      <td>0.436783</td>\n",
              "      <td>0.392573</td>\n",
              "      <td>0.183928</td>\n",
              "      <td>-0.113970</td>\n",
              "      <td>0.074752</td>\n",
              "    </tr>\n",
              "    <tr>\n",
              "      <th>Insulin</th>\n",
              "      <td>-0.073535</td>\n",
              "      <td>0.331357</td>\n",
              "      <td>0.088933</td>\n",
              "      <td>0.436783</td>\n",
              "      <td>1.000000</td>\n",
              "      <td>0.197859</td>\n",
              "      <td>0.185071</td>\n",
              "      <td>-0.042163</td>\n",
              "      <td>0.130548</td>\n",
              "    </tr>\n",
              "    <tr>\n",
              "      <th>BMI</th>\n",
              "      <td>0.017683</td>\n",
              "      <td>0.221071</td>\n",
              "      <td>0.281805</td>\n",
              "      <td>0.392573</td>\n",
              "      <td>0.197859</td>\n",
              "      <td>1.000000</td>\n",
              "      <td>0.140647</td>\n",
              "      <td>0.036242</td>\n",
              "      <td>0.292695</td>\n",
              "    </tr>\n",
              "    <tr>\n",
              "      <th>DiabetesPedigreeFunction</th>\n",
              "      <td>-0.033523</td>\n",
              "      <td>0.137337</td>\n",
              "      <td>0.041265</td>\n",
              "      <td>0.183928</td>\n",
              "      <td>0.185071</td>\n",
              "      <td>0.140647</td>\n",
              "      <td>1.000000</td>\n",
              "      <td>0.033561</td>\n",
              "      <td>0.173844</td>\n",
              "    </tr>\n",
              "    <tr>\n",
              "      <th>Age</th>\n",
              "      <td>0.544341</td>\n",
              "      <td>0.263514</td>\n",
              "      <td>0.239528</td>\n",
              "      <td>-0.113970</td>\n",
              "      <td>-0.042163</td>\n",
              "      <td>0.036242</td>\n",
              "      <td>0.033561</td>\n",
              "      <td>1.000000</td>\n",
              "      <td>0.238356</td>\n",
              "    </tr>\n",
              "    <tr>\n",
              "      <th>Outcome</th>\n",
              "      <td>0.221898</td>\n",
              "      <td>0.466581</td>\n",
              "      <td>0.065068</td>\n",
              "      <td>0.074752</td>\n",
              "      <td>0.130548</td>\n",
              "      <td>0.292695</td>\n",
              "      <td>0.173844</td>\n",
              "      <td>0.238356</td>\n",
              "      <td>1.000000</td>\n",
              "    </tr>\n",
              "  </tbody>\n",
              "</table>\n",
              "</div>\n",
              "      <button class=\"colab-df-convert\" onclick=\"convertToInteractive('df-6c0363f1-1171-4113-a0df-c0990013cb75')\"\n",
              "              title=\"Convert this dataframe to an interactive table.\"\n",
              "              style=\"display:none;\">\n",
              "\n",
              "  <svg xmlns=\"http://www.w3.org/2000/svg\" height=\"24px\"viewBox=\"0 0 24 24\"\n",
              "       width=\"24px\">\n",
              "    <path d=\"M0 0h24v24H0V0z\" fill=\"none\"/>\n",
              "    <path d=\"M18.56 5.44l.94 2.06.94-2.06 2.06-.94-2.06-.94-.94-2.06-.94 2.06-2.06.94zm-11 1L8.5 8.5l.94-2.06 2.06-.94-2.06-.94L8.5 2.5l-.94 2.06-2.06.94zm10 10l.94 2.06.94-2.06 2.06-.94-2.06-.94-.94-2.06-.94 2.06-2.06.94z\"/><path d=\"M17.41 7.96l-1.37-1.37c-.4-.4-.92-.59-1.43-.59-.52 0-1.04.2-1.43.59L10.3 9.45l-7.72 7.72c-.78.78-.78 2.05 0 2.83L4 21.41c.39.39.9.59 1.41.59.51 0 1.02-.2 1.41-.59l7.78-7.78 2.81-2.81c.8-.78.8-2.07 0-2.86zM5.41 20L4 18.59l7.72-7.72 1.47 1.35L5.41 20z\"/>\n",
              "  </svg>\n",
              "      </button>\n",
              "\n",
              "\n",
              "\n",
              "    <div id=\"df-57e52a72-4641-4927-9ee3-4f6551bcf440\">\n",
              "      <button class=\"colab-df-quickchart\" onclick=\"quickchart('df-57e52a72-4641-4927-9ee3-4f6551bcf440')\"\n",
              "              title=\"Suggest charts.\"\n",
              "              style=\"display:none;\">\n",
              "\n",
              "<svg xmlns=\"http://www.w3.org/2000/svg\" height=\"24px\"viewBox=\"0 0 24 24\"\n",
              "     width=\"24px\">\n",
              "    <g>\n",
              "        <path d=\"M19 3H5c-1.1 0-2 .9-2 2v14c0 1.1.9 2 2 2h14c1.1 0 2-.9 2-2V5c0-1.1-.9-2-2-2zM9 17H7v-7h2v7zm4 0h-2V7h2v10zm4 0h-2v-4h2v4z\"/>\n",
              "    </g>\n",
              "</svg>\n",
              "      </button>\n",
              "    </div>\n",
              "\n",
              "<style>\n",
              "  .colab-df-quickchart {\n",
              "    background-color: #E8F0FE;\n",
              "    border: none;\n",
              "    border-radius: 50%;\n",
              "    cursor: pointer;\n",
              "    display: none;\n",
              "    fill: #1967D2;\n",
              "    height: 32px;\n",
              "    padding: 0 0 0 0;\n",
              "    width: 32px;\n",
              "  }\n",
              "\n",
              "  .colab-df-quickchart:hover {\n",
              "    background-color: #E2EBFA;\n",
              "    box-shadow: 0px 1px 2px rgba(60, 64, 67, 0.3), 0px 1px 3px 1px rgba(60, 64, 67, 0.15);\n",
              "    fill: #174EA6;\n",
              "  }\n",
              "\n",
              "  [theme=dark] .colab-df-quickchart {\n",
              "    background-color: #3B4455;\n",
              "    fill: #D2E3FC;\n",
              "  }\n",
              "\n",
              "  [theme=dark] .colab-df-quickchart:hover {\n",
              "    background-color: #434B5C;\n",
              "    box-shadow: 0px 1px 3px 1px rgba(0, 0, 0, 0.15);\n",
              "    filter: drop-shadow(0px 1px 2px rgba(0, 0, 0, 0.3));\n",
              "    fill: #FFFFFF;\n",
              "  }\n",
              "</style>\n",
              "\n",
              "    <script>\n",
              "      async function quickchart(key) {\n",
              "        const containerElement = document.querySelector('#' + key);\n",
              "        const charts = await google.colab.kernel.invokeFunction(\n",
              "            'suggestCharts', [key], {});\n",
              "      }\n",
              "    </script>\n",
              "\n",
              "      <script>\n",
              "\n",
              "function displayQuickchartButton(domScope) {\n",
              "  let quickchartButtonEl =\n",
              "    domScope.querySelector('#df-57e52a72-4641-4927-9ee3-4f6551bcf440 button.colab-df-quickchart');\n",
              "  quickchartButtonEl.style.display =\n",
              "    google.colab.kernel.accessAllowed ? 'block' : 'none';\n",
              "}\n",
              "\n",
              "        displayQuickchartButton(document);\n",
              "      </script>\n",
              "      <style>\n",
              "    .colab-df-container {\n",
              "      display:flex;\n",
              "      flex-wrap:wrap;\n",
              "      gap: 12px;\n",
              "    }\n",
              "\n",
              "    .colab-df-convert {\n",
              "      background-color: #E8F0FE;\n",
              "      border: none;\n",
              "      border-radius: 50%;\n",
              "      cursor: pointer;\n",
              "      display: none;\n",
              "      fill: #1967D2;\n",
              "      height: 32px;\n",
              "      padding: 0 0 0 0;\n",
              "      width: 32px;\n",
              "    }\n",
              "\n",
              "    .colab-df-convert:hover {\n",
              "      background-color: #E2EBFA;\n",
              "      box-shadow: 0px 1px 2px rgba(60, 64, 67, 0.3), 0px 1px 3px 1px rgba(60, 64, 67, 0.15);\n",
              "      fill: #174EA6;\n",
              "    }\n",
              "\n",
              "    [theme=dark] .colab-df-convert {\n",
              "      background-color: #3B4455;\n",
              "      fill: #D2E3FC;\n",
              "    }\n",
              "\n",
              "    [theme=dark] .colab-df-convert:hover {\n",
              "      background-color: #434B5C;\n",
              "      box-shadow: 0px 1px 3px 1px rgba(0, 0, 0, 0.15);\n",
              "      filter: drop-shadow(0px 1px 2px rgba(0, 0, 0, 0.3));\n",
              "      fill: #FFFFFF;\n",
              "    }\n",
              "  </style>\n",
              "\n",
              "      <script>\n",
              "        const buttonEl =\n",
              "          document.querySelector('#df-6c0363f1-1171-4113-a0df-c0990013cb75 button.colab-df-convert');\n",
              "        buttonEl.style.display =\n",
              "          google.colab.kernel.accessAllowed ? 'block' : 'none';\n",
              "\n",
              "        async function convertToInteractive(key) {\n",
              "          const element = document.querySelector('#df-6c0363f1-1171-4113-a0df-c0990013cb75');\n",
              "          const dataTable =\n",
              "            await google.colab.kernel.invokeFunction('convertToInteractive',\n",
              "                                                     [key], {});\n",
              "          if (!dataTable) return;\n",
              "\n",
              "          const docLinkHtml = 'Like what you see? Visit the ' +\n",
              "            '<a target=\"_blank\" href=https://colab.research.google.com/notebooks/data_table.ipynb>data table notebook</a>'\n",
              "            + ' to learn more about interactive tables.';\n",
              "          element.innerHTML = '';\n",
              "          dataTable['output_type'] = 'display_data';\n",
              "          await google.colab.output.renderOutput(dataTable, element);\n",
              "          const docLink = document.createElement('div');\n",
              "          docLink.innerHTML = docLinkHtml;\n",
              "          element.appendChild(docLink);\n",
              "        }\n",
              "      </script>\n",
              "    </div>\n",
              "  </div>\n"
            ]
          },
          "metadata": {},
          "execution_count": 31
        }
      ]
    },
    {
      "cell_type": "code",
      "source": [
        "df.skew()"
      ],
      "metadata": {
        "colab": {
          "base_uri": "https://localhost:8080/"
        },
        "id": "mBQnO32cvJqH",
        "outputId": "e8e0b204-d4e5-46cd-b9e4-72f0f166e885"
      },
      "execution_count": 32,
      "outputs": [
        {
          "output_type": "execute_result",
          "data": {
            "text/plain": [
              "Pregnancies                 0.901674\n",
              "Glucose                     0.173754\n",
              "BloodPreassure             -1.843608\n",
              "SkinThickness               0.109372\n",
              "Insulin                     2.272251\n",
              "BMI                        -0.428982\n",
              "DiabetesPedigreeFunction    1.919911\n",
              "Age                         1.129597\n",
              "Outcome                     0.635017\n",
              "dtype: float64"
            ]
          },
          "metadata": {},
          "execution_count": 32
        }
      ]
    }
  ]
}